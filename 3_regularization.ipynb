{
 "cells": [
  {
   "cell_type": "markdown",
   "metadata": {
    "colab_type": "text",
    "id": "kR-4eNdK6lYS"
   },
   "source": [
    "Deep Learning\n",
    "=============\n",
    "\n",
    "Assignment 3\n",
    "------------\n",
    "\n",
    "Previously in `2_fullyconnected.ipynb`, you trained a logistic regression and a neural network model.\n",
    "\n",
    "The goal of this assignment is to explore regularization techniques."
   ]
  },
  {
   "cell_type": "code",
   "execution_count": 1,
   "metadata": {
    "cellView": "both",
    "colab": {
     "autoexec": {
      "startup": false,
      "wait_interval": 0
     }
    },
    "colab_type": "code",
    "collapsed": true,
    "id": "JLpLa8Jt7Vu4"
   },
   "outputs": [],
   "source": [
    "# These are all the modules we'll be using later. Make sure you can import them\n",
    "# before proceeding further.\n",
    "from __future__ import print_function\n",
    "import numpy as np\n",
    "import tensorflow as tf\n",
    "from six.moves import cPickle as pickle"
   ]
  },
  {
   "cell_type": "markdown",
   "metadata": {
    "colab_type": "text",
    "id": "1HrCK6e17WzV"
   },
   "source": [
    "First reload the data we generated in _notmist.ipynb_."
   ]
  },
  {
   "cell_type": "code",
   "execution_count": 2,
   "metadata": {
    "cellView": "both",
    "colab": {
     "autoexec": {
      "startup": false,
      "wait_interval": 0
     },
     "output_extras": [
      {
       "item_id": 1
      }
     ]
    },
    "colab_type": "code",
    "collapsed": false,
    "executionInfo": {
     "elapsed": 11777,
     "status": "ok",
     "timestamp": 1449849322348,
     "user": {
      "color": "",
      "displayName": "",
      "isAnonymous": false,
      "isMe": true,
      "permissionId": "",
      "photoUrl": "",
      "sessionId": "0",
      "userId": ""
     },
     "user_tz": 480
    },
    "id": "y3-cj1bpmuxc",
    "outputId": "e03576f1-ebbe-4838-c388-f1777bcc9873"
   },
   "outputs": [
    {
     "name": "stdout",
     "output_type": "stream",
     "text": [
      "Training set (187354, 28, 28) (187354,)\n",
      "Validation set (8913, 28, 28) (8913,)\n",
      "Test set (8629, 28, 28) (8629,)\n"
     ]
    }
   ],
   "source": [
    "pickle_file = 'clean_notMNIST.pickle'\n",
    "\n",
    "with open(pickle_file, 'rb') as f:\n",
    "  save = pickle.load(f)\n",
    "  train_dataset = save['ctrain_dataset']\n",
    "  train_labels = save['ctrain_labels']\n",
    "  valid_dataset = save['cvalid_dataset']\n",
    "  valid_labels = save['cvalid_labels']\n",
    "  test_dataset = save['ctest_dataset']\n",
    "  test_labels = save['ctest_labels']\n",
    "  del save  # hint to help gc free up memory\n",
    "  print('Training set', train_dataset.shape, train_labels.shape)\n",
    "  print('Validation set', valid_dataset.shape, valid_labels.shape)\n",
    "  print('Test set', test_dataset.shape, test_labels.shape)"
   ]
  },
  {
   "cell_type": "markdown",
   "metadata": {
    "colab_type": "text",
    "id": "L7aHrm6nGDMB"
   },
   "source": [
    "Reformat into a shape that's more adapted to the models we're going to train:\n",
    "- data as a flat matrix,\n",
    "- labels as float 1-hot encodings."
   ]
  },
  {
   "cell_type": "code",
   "execution_count": 3,
   "metadata": {
    "cellView": "both",
    "colab": {
     "autoexec": {
      "startup": false,
      "wait_interval": 0
     },
     "output_extras": [
      {
       "item_id": 1
      }
     ]
    },
    "colab_type": "code",
    "collapsed": false,
    "executionInfo": {
     "elapsed": 11728,
     "status": "ok",
     "timestamp": 1449849322356,
     "user": {
      "color": "",
      "displayName": "",
      "isAnonymous": false,
      "isMe": true,
      "permissionId": "",
      "photoUrl": "",
      "sessionId": "0",
      "userId": ""
     },
     "user_tz": 480
    },
    "id": "IRSyYiIIGIzS",
    "outputId": "3f8996ee-3574-4f44-c953-5c8a04636582"
   },
   "outputs": [
    {
     "name": "stdout",
     "output_type": "stream",
     "text": [
      "Training set (187354, 784) (187354, 10)\n",
      "Validation set (8913, 784) (8913, 10)\n",
      "Test set (8629, 784) (8629, 10)\n"
     ]
    }
   ],
   "source": [
    "image_size = 28\n",
    "num_labels = 10\n",
    "\n",
    "def reformat(dataset, labels):\n",
    "  dataset = dataset.reshape((-1, image_size * image_size)).astype(np.float32)\n",
    "  # Map 2 to [0.0, 1.0, 0.0 ...], 3 to [0.0, 0.0, 1.0 ...]\n",
    "  labels = (np.arange(num_labels) == labels[:,None]).astype(np.float32)\n",
    "  return dataset, labels\n",
    "train_dataset, train_labels = reformat(train_dataset, train_labels)\n",
    "valid_dataset, valid_labels = reformat(valid_dataset, valid_labels)\n",
    "test_dataset, test_labels = reformat(test_dataset, test_labels)\n",
    "print('Training set', train_dataset.shape, train_labels.shape)\n",
    "print('Validation set', valid_dataset.shape, valid_labels.shape)\n",
    "print('Test set', test_dataset.shape, test_labels.shape)"
   ]
  },
  {
   "cell_type": "code",
   "execution_count": 4,
   "metadata": {
    "cellView": "both",
    "colab": {
     "autoexec": {
      "startup": false,
      "wait_interval": 0
     }
    },
    "colab_type": "code",
    "collapsed": true,
    "id": "RajPLaL_ZW6w"
   },
   "outputs": [],
   "source": [
    "def accuracy(predictions, labels):\n",
    "  return (100.0 * np.sum(np.argmax(predictions, 1) == np.argmax(labels, 1))\n",
    "          / predictions.shape[0])"
   ]
  },
  {
   "cell_type": "markdown",
   "metadata": {
    "colab_type": "text",
    "id": "sgLbUAQ1CW-1"
   },
   "source": [
    "---\n",
    "Problem 1\n",
    "---------\n",
    "\n",
    "Introduce and tune L2 regularization for both logistic and neural network models. Remember that L2 amounts to adding a penalty on the norm of the weights to the loss. In TensorFlow, you can compute the L2 loss for a tensor `t` using `nn.l2_loss(t)`. The right amount of regularization should improve your validation / test accuracy.\n",
    "\n",
    "---"
   ]
  },
  {
   "cell_type": "raw",
   "metadata": {},
   "source": [
    "Stochastic Logistic Regression model!!"
   ]
  },
  {
   "cell_type": "code",
   "execution_count": null,
   "metadata": {
    "collapsed": false
   },
   "outputs": [],
   "source": [
    "import math\n",
    "batch_size = 128\n",
    "\n",
    "graph = tf.Graph()\n",
    "with graph.as_default():\n",
    "  tf_train_dataset = tf.placeholder(tf.float32, shape=(batch_size, image_size * image_size))\n",
    "  tf_train_labels = tf.placeholder(tf.float32, shape=(batch_size, num_labels))\n",
    "  tf_valid_dataset = tf.constant(valid_dataset)\n",
    "  tf_test_dataset = tf.constant(test_dataset)\n",
    "  \n",
    "  # Variables.\n",
    "  weights = tf.Variable(tf.truncated_normal([image_size * image_size, num_labels]))\n",
    "  biases = tf.Variable(tf.zeros([num_labels]))\n",
    "  \n",
    "  # Training computation.\n",
    "  logits = tf.matmul(tf_train_dataset, weights) + biases\n",
    "  L2 = tf.nn.l2_loss(weights, name='L2') * 0.0075\n",
    "  loss = tf.reduce_mean(tf.nn.softmax_cross_entropy_with_logits(logits, tf_train_labels)) + L2\n",
    "  \n",
    "  # Optimizer.\n",
    "  optimizer = tf.train.GradientDescentOptimizer(0.5).minimize(loss)\n",
    "  \n",
    "  # Predictions for the training, validation, and test data.\n",
    "  train_prediction = tf.nn.softmax(logits)\n",
    "  valid_prediction = tf.nn.softmax(tf.matmul(tf_valid_dataset, weights) + biases)\n",
    "  test_prediction = tf.nn.softmax(tf.matmul(tf_test_dataset, weights) + biases)"
   ]
  },
  {
   "cell_type": "code",
   "execution_count": null,
   "metadata": {
    "collapsed": false
   },
   "outputs": [],
   "source": [
    "num_steps = 3001\n",
    "\n",
    "with tf.Session(graph=graph) as session:\n",
    "  tf.initialize_all_variables().run()\n",
    "  print(\"Initialized\")\n",
    "  for step in range(num_steps):\n",
    "    offset = (step * batch_size) % (train_labels.shape[0] - batch_size)\n",
    "    batch_data = train_dataset[offset:(offset + batch_size), :]\n",
    "    batch_labels = train_labels[offset:(offset + batch_size), :]\n",
    "\n",
    "    feed_dict = {tf_train_dataset : batch_data, tf_train_labels : batch_labels}\n",
    "    _, l, predictions = session.run([optimizer, loss, train_prediction], feed_dict=feed_dict)\n",
    "    if (step % 500 == 0):\n",
    "      print(\"L2: %f\" % L2.eval())\n",
    "      print(\"Minibatch loss at step %d: %f\" % (step, l))\n",
    "      print(\"Minibatch accuracy: %.1f%%\" % accuracy(predictions, batch_labels))\n",
    "      print(\"Validation accuracy: %.1f%%\" % accuracy(valid_prediction.eval(), valid_labels))\n",
    "  print(\"Test accuracy: %.1f%%\" % accuracy(test_prediction.eval(), test_labels))"
   ]
  },
  {
   "cell_type": "raw",
   "metadata": {},
   "source": [
    "beta = 0.0075\n",
    ">>> Before - L2 <<<\n",
    "Minibatch loss at step 3000: 0.795424\n",
    "Minibatch accuracy: 78.1%\n",
    "Validation accuracy: 78.5%\n",
    "Test accuracy: 85.9%\n",
    "\n",
    ">>> After - L2 <<<\n",
    "L2: 0.063102\n",
    "Minibatch loss at step 3000: 0.750735\n",
    "Minibatch accuracy: 80.5%\n",
    "Validation accuracy: 81.5%\n",
    "Test accuracy: 88.6%\n"
   ]
  },
  {
   "cell_type": "code",
   "execution_count": null,
   "metadata": {
    "collapsed": true
   },
   "outputs": [],
   "source": [
    "with tf.Session(graph=graph) as session:\n",
    "    # sess.graph_def is the graph definition; that enables the Graph Visualizer.\n",
    "    summary_writer = tf.train.SummaryWriter('/Volumes/darthDisk/machineLearning/udacity/logs_tf', session.graph)"
   ]
  },
  {
   "cell_type": "raw",
   "metadata": {},
   "source": [
    "Neural Network model!!"
   ]
  },
  {
   "cell_type": "code",
   "execution_count": null,
   "metadata": {
    "collapsed": false
   },
   "outputs": [],
   "source": [
    "import math\n",
    "\n",
    "batch_size = 128\n",
    "hidden_nodes = 1024\n",
    "\n",
    "graph = tf.Graph()\n",
    "with graph.as_default():\n",
    "\n",
    "  tf_train_dataset = tf.placeholder(tf.float32,shape=(batch_size, image_size * image_size), name='train_ds')\n",
    "  tf_train_labels = tf.placeholder(tf.float32, shape=(batch_size, num_labels), name='train_labels')\n",
    "  tf_valid_dataset = tf.constant(valid_dataset, name='valid_ds')\n",
    "  tf_test_dataset = tf.constant(test_dataset, name='test_ds')\n",
    "    \n",
    "  # Hidden layer\n",
    "  weights_hidden = tf.Variable(tf.truncated_normal([image_size * image_size, hidden_nodes]), name='h_weights')   \n",
    "  biases_hidden = tf.Variable(tf.zeros([hidden_nodes]), name='h_biases')\n",
    "  logits_hidden = tf.nn.relu(tf.matmul(tf_train_dataset, weights_hidden, name='h_logits') + biases_hidden, \n",
    "                             name='h_relu_logits')\n",
    "    \n",
    "  # outPut layer\n",
    "  weights = tf.Variable(tf.truncated_normal([hidden_nodes, num_labels]), name='weights')\n",
    "  biases = tf.Variable(tf.zeros([num_labels]), name='biases')\n",
    "  logits = tf.matmul(logits_hidden, weights, name='logits') + biases\n",
    "  \n",
    "  # Training computation. || Combine the weights adding them !! ||\n",
    "  L2 = ( tf.nn.l2_loss(weights_hidden) + tf.nn.l2_loss(weights) ) * 0.00075\n",
    "  loss = tf.reduce_mean(tf.nn.softmax_cross_entropy_with_logits(logits, tf_train_labels)) + L2\n",
    "    \n",
    "  # Optimizer.\n",
    "  optimizer = tf.train.GradientDescentOptimizer(0.5).minimize(loss)\n",
    "  \n",
    "  # Predictions for the training, validation, and test data.\n",
    "  train_prediction = tf.nn.softmax(logits, name='train_prediction')\n",
    "  logits_hidden_valid = tf.nn.relu(tf.matmul(tf_valid_dataset, weights_hidden) + biases_hidden)\n",
    "  valid_prediction = tf.nn.softmax(tf.matmul(logits_hidden_valid, weights) + biases)\n",
    "  logits_hidden_test = tf.nn.relu(tf.matmul(tf_test_dataset, weights_hidden) + biases_hidden)\n",
    "  test_prediction = tf.nn.softmax(tf.matmul(logits_hidden_test, weights) + biases)"
   ]
  },
  {
   "cell_type": "code",
   "execution_count": null,
   "metadata": {
    "collapsed": false
   },
   "outputs": [],
   "source": [
    "num_steps = 3001\n",
    "\n",
    "with tf.Session(graph=graph) as session:\n",
    "  tf.initialize_all_variables().run()\n",
    "  print(\"Initialized\")\n",
    "  for step in range(num_steps):\n",
    "    offset = (step * batch_size) % (train_labels.shape[0] - batch_size + 2)\n",
    "    batch_data = train_dataset[offset:(offset + batch_size), :]\n",
    "    batch_labels = train_labels[offset:(offset + batch_size), :]\n",
    "\n",
    "    feed_dict = {tf_train_dataset : batch_data, tf_train_labels : batch_labels}\n",
    "    _, l, predictions = session.run([optimizer, loss, train_prediction], feed_dict=feed_dict)\n",
    "    \n",
    "    if (step % 500 == 0):\n",
    "      print(L2.eval())  \n",
    "      print(\"Minibatch loss at step %d: %f\" % (step, l))\n",
    "      print(\"Minibatch accuracy: %.1f%%\" % accuracy(predictions, batch_labels))\n",
    "      print(\"Validation accuracy: %.1f%%\" % accuracy(valid_prediction.eval(), valid_labels))\n",
    "  \n",
    "  print(\"Test accuracy: %.1f%%\" % accuracy(test_prediction.eval(), test_labels))"
   ]
  },
  {
   "cell_type": "raw",
   "metadata": {},
   "source": [
    ">>> Before - L2 <<<\n",
    "Minibatch loss at step 3000: 2.476811\n",
    "Minibatch accuracy: 82.0%\n",
    "Validation accuracy: 82.2%\n",
    "Test accuracy: 88.9%\n",
    "\n",
    ">>> After - L2 <<<\n",
    "23.7849\n",
    "Minibatch loss at step 3000: 24.210302\n",
    "Minibatch accuracy: 89.8%\n",
    "Validation accuracy: 86.3%\n",
    "Test accuracy: 92.4%\n"
   ]
  },
  {
   "cell_type": "markdown",
   "metadata": {
    "colab_type": "text",
    "id": "na8xX2yHZzNF"
   },
   "source": [
    "---\n",
    "Problem 2\n",
    "---------\n",
    "Let's demonstrate an extreme case of overfitting. Restrict your training data to just a few batches. What happens?\n",
    "\n",
    "---"
   ]
  },
  {
   "cell_type": "code",
   "execution_count": null,
   "metadata": {
    "collapsed": false
   },
   "outputs": [],
   "source": [
    "batch_size = 128\n",
    "hidden_nodes = 1024\n",
    "\n",
    "graph = tf.Graph()\n",
    "with graph.as_default():\n",
    "\n",
    "  tf_train_dataset = tf.placeholder(tf.float32, shape=(batch_size, image_size*image_size), name='train_ds')\n",
    "  tf_train_labels = tf.placeholder(tf.float32, shape=(batch_size, num_labels), name='train_labels')\n",
    "  tf_valid_dataset = tf.constant(valid_dataset, name='valid_ds')\n",
    "  tf_test_dataset = tf.constant(test_dataset, name='test_ds')\n",
    "    \n",
    "  # Hidden layer\n",
    "  weights_hidden = tf.Variable(tf.truncated_normal([image_size*image_size, hidden_nodes]), name='h_weights')   \n",
    "  biases_hidden = tf.Variable(tf.zeros([hidden_nodes]), name='h_biases')\n",
    "  logits_hidden = tf.nn.relu(tf.matmul(tf_train_dataset, weights_hidden, name='h_logits') + biases_hidden, \n",
    "                             name='h_relu_logits')\n",
    "\n",
    "  # outPut layer\n",
    "  weights = tf.Variable(tf.truncated_normal([hidden_nodes, num_labels]), name='weights')\n",
    "  biases = tf.Variable(tf.zeros([num_labels]), name='biases')\n",
    "  logits = tf.matmul(logits_hidden, weights, name='logits') + biases\n",
    "  \n",
    "  # Training computation. || Combine the weights adding them !! ||\n",
    "  L2 = ( tf.nn.l2_loss(weights_hidden) + tf.nn.l2_loss(weights) ) * 0.00075\n",
    "  loss = tf.reduce_mean(tf.nn.softmax_cross_entropy_with_logits(logits, tf_train_labels)) + L2\n",
    "#   loss = tf.reduce_mean(tf.nn.softmax_cross_entropy_with_logits(logits, tf_train_labels))\n",
    "    \n",
    "  # Optimizer.\n",
    "  optimizer = tf.train.GradientDescentOptimizer(0.5).minimize(loss)\n",
    "  \n",
    "  # Predictions for the training, validation, and test data.\n",
    "  train_prediction = tf.nn.softmax(logits, name='train_prediction')\n",
    "  logits_hidden_valid = tf.nn.relu(tf.matmul(tf_valid_dataset, weights_hidden) + biases_hidden)\n",
    "  valid_prediction = tf.nn.softmax(tf.matmul(logits_hidden_valid, weights) + biases)\n",
    "  logits_hidden_test = tf.nn.relu(tf.matmul(tf_test_dataset, weights_hidden) + biases_hidden)\n",
    "  test_prediction = tf.nn.softmax(tf.matmul(logits_hidden_test, weights) + biases)"
   ]
  },
  {
   "cell_type": "code",
   "execution_count": null,
   "metadata": {
    "collapsed": true
   },
   "outputs": [],
   "source": [
    "# Restricting training data to just a few batches!!\n",
    "# train_dataset = train_dataset[:1000, :]\n",
    "# train_labels = train_labels[:1000, :]"
   ]
  },
  {
   "cell_type": "code",
   "execution_count": null,
   "metadata": {
    "collapsed": false,
    "scrolled": false
   },
   "outputs": [],
   "source": [
    "num_steps = 3001\n",
    "\n",
    "with tf.Session(graph=graph) as session:\n",
    "  tf.initialize_all_variables().run()\n",
    "  print(\"Initialized\")\n",
    "  for step in range(num_steps):\n",
    "    offset = (step * batch_size) % (train_labels.shape[0] - batch_size + 1)\n",
    "    batch_data = train_dataset[offset:(offset + batch_size), :]\n",
    "    batch_labels = train_labels[offset:(offset + batch_size), :]\n",
    "\n",
    "    feed_dict = {tf_train_dataset : batch_data, tf_train_labels : batch_labels}\n",
    "    _, l, predictions = session.run([optimizer, loss, train_prediction], feed_dict=feed_dict)\n",
    "    \n",
    "    if (step % 500 == 0):\n",
    "      print(L2.eval())  \n",
    "      print(\"Minibatch loss at step %d: %f\" % (step, l))\n",
    "      print(\"Minibatch accuracy: %.1f%%\" % accuracy(predictions, batch_labels))\n",
    "      print(\"Validation accuracy: %.1f%%\" % accuracy(valid_prediction.eval(), valid_labels))\n",
    "  \n",
    "  print(\"Test accuracy: %.1f%%\" % accuracy(test_prediction.eval(), test_labels))"
   ]
  },
  {
   "cell_type": "raw",
   "metadata": {},
   "source": [
    ">> first results:\n",
    "23.7013\n",
    "Minibatch loss at step 3000: 24.172623\n",
    "Minibatch accuracy: 85.2%\n",
    "Validation accuracy: 86.3%\n",
    "Test accuracy: 92.5%\n",
    "\n",
    ">> With just a few batches from 3001 to 30 steps all accuracy measure go down !!\n",
    "230.297\n",
    "Minibatch loss at step 25: 291.807037\n",
    "Minibatch accuracy: 76.6%\n",
    "Validation accuracy: 76.3%\n",
    "Test accuracy: 86.1%\n",
    "\n",
    ">> Running 4 times with batches of 50 000 each run, all accuracy measure go down !! \n",
    "235.042\n",
    "Minibatch loss at step 3: 1411.355103\n",
    "Minibatch accuracy: 28.9%\n",
    "Validation accuracy: 49.5%\n",
    "Test accuracy: 53.8%\n",
    "\n",
    ">> taking just 1000 elements from dataset[:1000,:] so overfit the model.\n",
    "|| Final Solution: Minibatch accuracy soons gets to 100% on the other hands Validation accuracy stop improving and at the end Validation and Test accuracy decreases !! ||\n",
    "Minibatch loss at step 3000: 24.900345\n",
    "Minibatch accuracy: 100.0%\n",
    "Validation accuracy: 77.7%\n",
    "Test accuracy: 84.5%"
   ]
  },
  {
   "cell_type": "markdown",
   "metadata": {
    "colab_type": "text",
    "id": "ww3SCBUdlkRc"
   },
   "source": [
    "---\n",
    "Problem 3\n",
    "---------\n",
    "Introduce Dropout on the hidden layer of the neural network. Remember: Dropout should only be introduced during training, not evaluation, otherwise your evaluation results would be stochastic as well. TensorFlow provides `nn.dropout()` for that, but you have to make sure it's only inserted during training.\n",
    "\n",
    "What happens to our extreme overfitting case?\n",
    "\n",
    "---"
   ]
  },
  {
   "cell_type": "code",
   "execution_count": null,
   "metadata": {
    "collapsed": false
   },
   "outputs": [],
   "source": [
    "batch_size = 128\n",
    "hidden_nodes = 1024\n",
    "\n",
    "graph = tf.Graph()\n",
    "with graph.as_default():\n",
    "\n",
    "  tf_train_dataset = tf.placeholder(tf.float32, shape=(batch_size, image_size*image_size), name='train_ds')\n",
    "  tf_train_labels = tf.placeholder(tf.float32, shape=(batch_size, num_labels), name='train_labels')\n",
    "  tf_valid_dataset = tf.constant(valid_dataset, name='valid_ds')\n",
    "  tf_test_dataset = tf.constant(test_dataset, name='test_ds')\n",
    "    \n",
    "  # Hidden layer\n",
    "  weights_hidden = tf.Variable(tf.truncated_normal([image_size*image_size, hidden_nodes]), name='h_weights')   \n",
    "  biases_hidden = tf.Variable(tf.zeros([hidden_nodes]), name='h_biases')\n",
    "  X = tf.matmul(tf_train_dataset, weights_hidden, name='h_logits') + biases_hidden\n",
    "  logits_hidden = tf.nn.dropout(tf.nn.relu(X, name='h_relu_logits'), 0.5)\n",
    "    \n",
    "  # outPut layer\n",
    "  weights = tf.Variable(tf.truncated_normal([hidden_nodes, num_labels]), name='weights')\n",
    "  biases = tf.Variable(tf.zeros([num_labels]), name='biases')\n",
    "  logits = tf.matmul(logits_hidden, weights, name='logits') + biases\n",
    "  \n",
    "  # Training computation. || Combine the weights adding them !! ||\n",
    "  L2 = ( tf.nn.l2_loss(weights_hidden) + tf.nn.l2_loss(weights) ) * 0.00075\n",
    "  loss = tf.reduce_mean(tf.nn.softmax_cross_entropy_with_logits(logits, tf_train_labels)) + L2\n",
    "    \n",
    "  # Optimizer.\n",
    "  optimizer = tf.train.GradientDescentOptimizer(0.5).minimize(loss)\n",
    "#   optimizer = tf.train.GradientDescentOptimizer(0.1).minimize(loss)\n",
    "  \n",
    "  # Predictions for the training, validation, and test data.\n",
    "  train_prediction = tf.nn.softmax(logits, name='train_prediction')\n",
    "  logits_hidden_valid = tf.nn.relu(tf.matmul(tf_valid_dataset, weights_hidden) + biases_hidden)\n",
    "  valid_prediction = tf.nn.softmax(tf.matmul(logits_hidden_valid, weights) + biases)\n",
    "  logits_hidden_test = tf.nn.relu(tf.matmul(tf_test_dataset, weights_hidden) + biases_hidden)\n",
    "  test_prediction = tf.nn.softmax(tf.matmul(logits_hidden_test, weights) + biases)"
   ]
  },
  {
   "cell_type": "code",
   "execution_count": null,
   "metadata": {
    "collapsed": false
   },
   "outputs": [],
   "source": [
    "num_steps = 3001\n",
    "\n",
    "with tf.Session(graph=graph) as session:\n",
    "  tf.initialize_all_variables().run()\n",
    "  print(\"Initialized\")\n",
    "  for step in range(num_steps):\n",
    "    offset = (step * batch_size) % (train_labels.shape[0] - batch_size + 2)\n",
    "    batch_data = train_dataset[offset:(offset + batch_size), :]\n",
    "    batch_labels = train_labels[offset:(offset + batch_size), :]\n",
    "\n",
    "    feed_dict = {tf_train_dataset : batch_data, tf_train_labels : batch_labels}\n",
    "    _, l, predictions = session.run([optimizer, loss, train_prediction], feed_dict=feed_dict)\n",
    "    \n",
    "    if (step % 500 == 0):\n",
    "      print(L2.eval())  \n",
    "      print(\"Minibatch loss at step %d: %f\" % (step, l))\n",
    "      print(\"Minibatch accuracy: %.1f%%\" % accuracy(predictions, batch_labels))\n",
    "      print(\"Validation accuracy: %.1f%%\" % accuracy(valid_prediction.eval(), valid_labels))\n",
    "  \n",
    "  print(\"Test accuracy: %.1f%%\" % accuracy(test_prediction.eval(), test_labels))"
   ]
  },
  {
   "cell_type": "raw",
   "metadata": {},
   "source": [
    ">> Base Result !!\n",
    "23.683\n",
    "Minibatch loss at step 3000: 24.045862\n",
    "Minibatch accuracy: 88.3%\n",
    "Validation accuracy: 86.5%\n",
    "Test accuracy: 92.4%"
   ]
  },
  {
   "cell_type": "raw",
   "metadata": {},
   "source": [
    "What happens to our extreme overfitting case?"
   ]
  },
  {
   "cell_type": "code",
   "execution_count": null,
   "metadata": {
    "collapsed": false
   },
   "outputs": [],
   "source": [
    "batch_size = 128\n",
    "hidden_nodes = 1024\n",
    "\n",
    "graph = tf.Graph()\n",
    "with graph.as_default():\n",
    "\n",
    "  tf_train_dataset = tf.placeholder(tf.float32, shape=(batch_size, image_size*image_size), name='train_ds')\n",
    "  tf_train_labels = tf.placeholder(tf.float32, shape=(batch_size, num_labels), name='train_labels')\n",
    "  tf_valid_dataset = tf.constant(valid_dataset, name='valid_ds')\n",
    "  tf_test_dataset = tf.constant(test_dataset, name='test_ds')\n",
    "    \n",
    "  # Hidden layer\n",
    "  weights_hidden = tf.Variable(tf.truncated_normal([image_size*image_size, hidden_nodes]), name='h_weights')   \n",
    "  biases_hidden = tf.Variable(tf.zeros([hidden_nodes]), name='h_biases')\n",
    "  X = tf.matmul(tf_train_dataset, weights_hidden, name='X') + biases_hidden\n",
    "  logits_hidden = tf.nn.dropout(tf.nn.relu( X, name='h_relu_logits'), 0.19)\n",
    "\n",
    "  # outPut layer\n",
    "  weights = tf.Variable(tf.truncated_normal([hidden_nodes, num_labels]), name='weights')\n",
    "  biases = tf.Variable(tf.zeros([num_labels]), name='biases')\n",
    "  logits = tf.matmul(logits_hidden, weights, name='logits') + biases\n",
    "  \n",
    "  # Training computation. || Combine the weights adding them !! ||\n",
    "  L2 = ( tf.nn.l2_loss(weights_hidden) + tf.nn.l2_loss(weights) ) * 0.00075\n",
    "  loss = tf.reduce_mean(tf.nn.softmax_cross_entropy_with_logits(logits, tf_train_labels)) + L2\n",
    "#   loss = tf.reduce_mean(tf.nn.softmax_cross_entropy_with_logits(logits, tf_train_labels))\n",
    "    \n",
    "  # Optimizer.\n",
    "  optimizer = tf.train.GradientDescentOptimizer(0.5).minimize(loss)\n",
    "  \n",
    "  # Predictions for the training, validation, and test data.\n",
    "  train_prediction = tf.nn.softmax(logits, name='train_prediction')\n",
    "  logits_hidden_valid = tf.nn.relu(tf.matmul(tf_valid_dataset, weights_hidden) + biases_hidden)\n",
    "  valid_prediction = tf.nn.softmax(tf.matmul(logits_hidden_valid, weights) + biases)\n",
    "  logits_hidden_test = tf.nn.relu(tf.matmul(tf_test_dataset, weights_hidden) + biases_hidden)\n",
    "  test_prediction = tf.nn.softmax(tf.matmul(logits_hidden_test, weights) + biases)"
   ]
  },
  {
   "cell_type": "code",
   "execution_count": null,
   "metadata": {
    "collapsed": true
   },
   "outputs": [],
   "source": [
    "# Restricting training data to just a few batches!!\n",
    "train_dataset = train_dataset[:1000, :]\n",
    "train_labels = train_labels[:1000, :]"
   ]
  },
  {
   "cell_type": "code",
   "execution_count": null,
   "metadata": {
    "collapsed": false,
    "scrolled": false
   },
   "outputs": [],
   "source": [
    "num_steps = 3001\n",
    "\n",
    "with tf.Session(graph=graph) as session:\n",
    "  tf.initialize_all_variables().run()\n",
    "  print(\"Initialized\")\n",
    "  for step in range(num_steps):\n",
    "    offset = (step * batch_size) % (train_labels.shape[0] - batch_size + 1)\n",
    "    batch_data = train_dataset[offset:(offset + batch_size), :]\n",
    "    batch_labels = train_labels[offset:(offset + batch_size), :]\n",
    "\n",
    "    feed_dict = {tf_train_dataset : batch_data, tf_train_labels : batch_labels}\n",
    "    _, l, predictions = session.run([optimizer, loss, train_prediction], feed_dict=feed_dict)\n",
    "    \n",
    "    if (step % 500 == 0):\n",
    "      print(L2.eval())  \n",
    "      print(\"Minibatch loss at step %d: %f\" % (step, l))\n",
    "      print(\"Minibatch accuracy: %.1f%%\" % accuracy(predictions, batch_labels))\n",
    "      print(\"Validation accuracy: %.1f%%\" % accuracy(valid_prediction.eval(), valid_labels))\n",
    "  \n",
    "  print(\"Test accuracy: %.1f%%\" % accuracy(test_prediction.eval(), test_labels))"
   ]
  },
  {
   "cell_type": "markdown",
   "metadata": {
    "colab_type": "text",
    "id": "-b1hTz3VWZjw"
   },
   "source": [
    "---\n",
    "Problem 4\n",
    "---------\n",
    "\n",
    "Try to get the best performance you can using a multi-layer model! The best reported test accuracy using a deep network is [97.1%](http://yaroslavvb.blogspot.com/2011/09/notmnist-dataset.html?showComment=1391023266211#c8758720086795711595).\n",
    "\n",
    "One avenue you can explore is to add multiple layers.\n",
    "\n",
    "Another one is to use learning rate decay:\n",
    "\n",
    "    global_step = tf.Variable(0)  # count the number of steps taken.\n",
    "    learning_rate = tf.train.exponential_decay(0.5, global_step, ...)\n",
    "    optimizer = tf.train.GradientDescentOptimizer(learning_rate).minimize(loss, global_step=global_step)\n",
    " \n",
    " ---\n"
   ]
  },
  {
   "cell_type": "code",
   "execution_count": 5,
   "metadata": {
    "collapsed": false
   },
   "outputs": [],
   "source": [
    "import math\n",
    "num_steps = 19001\n",
    "\n",
    "batch_size = 128\n",
    "hidden_nodes_1 = 1024\n",
    "hidden_nodes_2 = 300\n",
    "hidden_nodes_3 = 50\n",
    "\n",
    "graph = tf.Graph()\n",
    "with graph.as_default():\n",
    "\n",
    "  tf_train_dataset = tf.placeholder(tf.float32, shape = (batch_size, image_size*image_size), name='train_ds')\n",
    "  tf_train_labels = tf.placeholder(tf.float32, shape = (batch_size, num_labels), name='train_labels')\n",
    "  tf_valid_dataset = tf.constant(valid_dataset, name='valid_ds')\n",
    "  tf_test_dataset = tf.constant(test_dataset, name='test_ds')\n",
    "    \n",
    "  # Hidden layer 1\n",
    "  weights_hidden_1 = tf.Variable(tf.truncated_normal([image_size*image_size, hidden_nodes_1],\n",
    "                                                      stddev= math.sqrt(2.0/(image_size*image_size))), \n",
    "                                                      name='h_weights_1')   \n",
    "  \n",
    "  biases_hidden_1 = tf.Variable(tf.zeros([hidden_nodes_1]), name='h_biases_1')\n",
    "  X1 = tf.matmul(tf_train_dataset, weights_hidden_1, name='h_logits_1') + biases_hidden_1\n",
    "  logits_hidden_1 = tf.nn.relu(X1, name='h_relu_logits_1')\n",
    "\n",
    "  # Hidden layer 2\n",
    "  weights_hidden_2 = tf.Variable(tf.truncated_normal([hidden_nodes_1, hidden_nodes_2],\n",
    "                                                      stddev = math.sqrt(2.0/(hidden_nodes_1))), \n",
    "                                                      name ='h_weights_2')   \n",
    "    \n",
    "  biases_hidden_2 = tf.Variable(tf.zeros([hidden_nodes_2]), name='h_biases_2')\n",
    "  X2 = tf.matmul(logits_hidden_1, weights_hidden_2, name='h_logits_2') + biases_hidden_2\n",
    "  logits_hidden_2 = tf.nn.relu(X2, name='h_relu_logits_2')\n",
    "\n",
    "  # Hidden layer 3\n",
    "  weights_hidden_3 = tf.Variable(tf.truncated_normal([hidden_nodes_2, hidden_nodes_3],\n",
    "                                                      stddev = math.sqrt(2.0/(hidden_nodes_2))),\n",
    "                                                      name='h_weights_3')   \n",
    "\n",
    "  biases_hidden_3 = tf.Variable(tf.zeros([hidden_nodes_3]), name='h_biases_3')\n",
    "  X3 = tf.matmul(logits_hidden_2, weights_hidden_3, name='h_logits_3') + biases_hidden_3\n",
    "  logits_hidden_3 = tf.nn.relu(X3, name='h_relu_logits_3')\n",
    "    \n",
    "  # outPut layer\n",
    "  weights = tf.Variable(tf.truncated_normal([hidden_nodes_3, num_labels],\n",
    "                                             stddev= math.sqrt(2.0/(hidden_nodes_3))), \n",
    "                                             name='weights_out')\n",
    "    \n",
    "  biases = tf.Variable(tf.zeros([num_labels]), name='biases_out')\n",
    "  logits = tf.matmul(logits_hidden_3, weights, name='logits_out') + biases\n",
    "  \n",
    "  # Training computation. || Combine the weights adding them !! ||\n",
    "  L2 = ( tf.nn.l2_loss(weights_hidden_1) + tf.nn.l2_loss(weights_hidden_2) +\n",
    "         tf.nn.l2_loss(weights_hidden_3) + tf.nn.l2_loss(weights) ) * 0.00075\n",
    "  \n",
    "  loss = tf.reduce_mean(tf.nn.softmax_cross_entropy_with_logits(logits, tf_train_labels)) + L2\n",
    "    \n",
    "  # Optimizer.\n",
    "  global_step = tf.Variable(0) # count the number of steps taken.\n",
    "  learning_rate = tf.train.exponential_decay(0.7, global_step, num_steps*0.05, 0.90, staircase=False)\n",
    "  optimizer = tf.train.GradientDescentOptimizer(learning_rate).minimize(loss, global_step=global_step)\n",
    "  \n",
    "  # Predictions for the training, validation, and test data.\n",
    "  train_prediction = tf.nn.softmax(logits, name='train_prediction')\n",
    "  \n",
    "  logits_hidden_valid_1 = tf.nn.relu(tf.matmul(tf_valid_dataset, weights_hidden_1) + biases_hidden_1)\n",
    "  logits_hidden_valid_2 = tf.nn.relu(tf.matmul(logits_hidden_valid_1, weights_hidden_2) + biases_hidden_2)\n",
    "  logits_hidden_valid_3 = tf.nn.relu(tf.matmul(logits_hidden_valid_2, weights_hidden_3) + biases_hidden_3)\n",
    "  valid_prediction = tf.nn.softmax(tf.matmul(logits_hidden_valid_3, weights) + biases)\n",
    "\n",
    "  logits_hidden_test_1 = tf.nn.relu(tf.matmul(tf_test_dataset, weights_hidden_1) + biases_hidden_1)\n",
    "  logits_hidden_test_2 = tf.nn.relu(tf.matmul(logits_hidden_test_1, weights_hidden_2) + biases_hidden_2)\n",
    "  logits_hidden_test_3 = tf.nn.relu(tf.matmul(logits_hidden_test_2, weights_hidden_3) + biases_hidden_3)\n",
    "  test_prediction = tf.nn.softmax(tf.matmul(logits_hidden_test_3, weights) + biases)"
   ]
  },
  {
   "cell_type": "code",
   "execution_count": 6,
   "metadata": {
    "collapsed": true
   },
   "outputs": [],
   "source": [
    "def randomize(dataset, labels):\n",
    "  permutation = np.random.permutation(labels.shape[0])\n",
    "  shuffled_dataset = dataset[permutation,:]\n",
    "  shuffled_labels = labels[permutation,:]\n",
    "  return shuffled_dataset, shuffled_labels"
   ]
  },
  {
   "cell_type": "code",
   "execution_count": 7,
   "metadata": {
    "collapsed": false
   },
   "outputs": [
    {
     "name": "stdout",
     "output_type": "stream",
     "text": [
      "Initialized\n",
      "shuffled all\n",
      "L2:  0.803205\n",
      "Minibatch loss at step 0: 3.168500\n",
      "Minibatch accuracy: 4.7%\n",
      "Validation accuracy: 17.6%\n",
      "L2:  0.535339\n",
      "Minibatch loss at step 500: 1.124225\n",
      "Minibatch accuracy: 82.8%\n",
      "Validation accuracy: 85.0%\n",
      "L2:  0.372429\n",
      "Minibatch loss at step 1000: 0.747100\n",
      "Minibatch accuracy: 89.8%\n",
      "Validation accuracy: 86.7%\n",
      "shuffled all\n",
      "L2:  0.276918\n",
      "Minibatch loss at step 1500: 0.705948\n",
      "Minibatch accuracy: 86.7%\n",
      "Validation accuracy: 86.5%\n",
      "L2:  0.220737\n",
      "Minibatch loss at step 2000: 0.557640\n",
      "Minibatch accuracy: 88.3%\n",
      "Validation accuracy: 87.5%\n",
      "L2:  0.184847\n",
      "Minibatch loss at step 2500: 0.567532\n",
      "Minibatch accuracy: 85.2%\n",
      "Validation accuracy: 87.3%\n",
      "shuffled all\n",
      "L2:  0.162899\n",
      "Minibatch loss at step 3000: 0.442668\n",
      "Minibatch accuracy: 91.4%\n",
      "Validation accuracy: 88.3%\n",
      "L2:  0.149617\n",
      "Minibatch loss at step 3500: 0.487572\n",
      "Minibatch accuracy: 88.3%\n",
      "Validation accuracy: 88.7%\n",
      "L2:  0.139677\n",
      "Minibatch loss at step 4000: 0.558655\n",
      "Minibatch accuracy: 87.5%\n",
      "Validation accuracy: 88.5%\n",
      "shuffled all\n",
      "L2:  0.132902\n",
      "Minibatch loss at step 4500: 0.397307\n",
      "Minibatch accuracy: 93.0%\n",
      "Validation accuracy: 89.0%\n",
      "L2:  0.129984\n",
      "Minibatch loss at step 5000: 0.563515\n",
      "Minibatch accuracy: 87.5%\n",
      "Validation accuracy: 88.9%\n",
      "L2:  0.126422\n",
      "Minibatch loss at step 5500: 0.353477\n",
      "Minibatch accuracy: 93.0%\n",
      "Validation accuracy: 89.0%\n",
      "shuffled all\n",
      "L2:  0.124606\n",
      "Minibatch loss at step 6000: 0.457373\n",
      "Minibatch accuracy: 91.4%\n",
      "Validation accuracy: 89.6%\n",
      "L2:  0.12429\n",
      "Minibatch loss at step 6500: 0.411527\n",
      "Minibatch accuracy: 89.8%\n",
      "Validation accuracy: 89.1%\n",
      "L2:  0.122506\n",
      "Minibatch loss at step 7000: 0.488461\n",
      "Minibatch accuracy: 88.3%\n",
      "Validation accuracy: 89.1%\n",
      "shuffled all\n",
      "L2:  0.122275\n",
      "Minibatch loss at step 7500: 0.336420\n",
      "Minibatch accuracy: 94.5%\n",
      "Validation accuracy: 89.8%\n",
      "L2:  0.12203\n",
      "Minibatch loss at step 8000: 0.486201\n",
      "Minibatch accuracy: 85.9%\n",
      "Validation accuracy: 89.7%\n",
      "L2:  0.120977\n",
      "Minibatch loss at step 8500: 0.576300\n",
      "Minibatch accuracy: 86.7%\n",
      "Validation accuracy: 89.4%\n",
      "shuffled all\n",
      "L2:  0.121363\n",
      "Minibatch loss at step 9000: 0.342185\n",
      "Minibatch accuracy: 93.0%\n",
      "Validation accuracy: 89.6%\n",
      "L2:  0.121799\n",
      "Minibatch loss at step 9500: 0.422858\n",
      "Minibatch accuracy: 90.6%\n",
      "Validation accuracy: 89.7%\n",
      "L2:  0.121751\n",
      "Minibatch loss at step 10000: 0.312377\n",
      "Minibatch accuracy: 95.3%\n",
      "Validation accuracy: 89.4%\n",
      "shuffled all\n",
      "L2:  0.122093\n",
      "Minibatch loss at step 10500: 0.390362\n",
      "Minibatch accuracy: 91.4%\n",
      "Validation accuracy: 89.7%\n",
      "L2:  0.12213\n",
      "Minibatch loss at step 11000: 0.385664\n",
      "Minibatch accuracy: 91.4%\n",
      "Validation accuracy: 90.0%\n",
      "L2:  0.122037\n",
      "Minibatch loss at step 11500: 0.456279\n",
      "Minibatch accuracy: 89.8%\n",
      "Validation accuracy: 89.8%\n",
      "shuffled all\n",
      "L2:  0.122917\n",
      "Minibatch loss at step 12000: 0.266428\n",
      "Minibatch accuracy: 96.9%\n",
      "Validation accuracy: 90.4%\n",
      "L2:  0.123482\n",
      "Minibatch loss at step 12500: 0.305985\n",
      "Minibatch accuracy: 92.2%\n",
      "Validation accuracy: 90.4%\n",
      "L2:  0.123384\n",
      "Minibatch loss at step 13000: 0.300121\n",
      "Minibatch accuracy: 95.3%\n",
      "Validation accuracy: 90.3%\n",
      "shuffled all\n",
      "L2:  0.124217\n",
      "Minibatch loss at step 13500: 0.318702\n",
      "Minibatch accuracy: 93.8%\n",
      "Validation accuracy: 90.3%\n",
      "L2:  0.124598\n",
      "Minibatch loss at step 14000: 0.358984\n",
      "Minibatch accuracy: 92.2%\n",
      "Validation accuracy: 90.3%\n",
      "L2:  0.124642\n",
      "Minibatch loss at step 14500: 0.300021\n",
      "Minibatch accuracy: 95.3%\n",
      "Validation accuracy: 90.8%\n",
      "shuffled all\n",
      "L2:  0.125625\n",
      "Minibatch loss at step 15000: 0.350977\n",
      "Minibatch accuracy: 93.8%\n",
      "Validation accuracy: 90.5%\n",
      "L2:  0.125884\n",
      "Minibatch loss at step 15500: 0.405423\n",
      "Minibatch accuracy: 92.2%\n",
      "Validation accuracy: 90.9%\n",
      "L2:  0.125769\n",
      "Minibatch loss at step 16000: 0.401424\n",
      "Minibatch accuracy: 92.2%\n",
      "Validation accuracy: 90.5%\n",
      "shuffled all\n",
      "L2:  0.126649\n",
      "Minibatch loss at step 16500: 0.337996\n",
      "Minibatch accuracy: 94.5%\n",
      "Validation accuracy: 90.7%\n",
      "L2:  0.126944\n",
      "Minibatch loss at step 17000: 0.318809\n",
      "Minibatch accuracy: 93.8%\n",
      "Validation accuracy: 90.8%\n",
      "L2:  0.127207\n",
      "Minibatch loss at step 17500: 0.344249\n",
      "Minibatch accuracy: 93.0%\n",
      "Validation accuracy: 90.8%\n",
      "shuffled all\n",
      "L2:  0.128133\n",
      "Minibatch loss at step 18000: 0.394749\n",
      "Minibatch accuracy: 90.6%\n",
      "Validation accuracy: 90.7%\n",
      "L2:  0.128548\n",
      "Minibatch loss at step 18500: 0.294598\n",
      "Minibatch accuracy: 95.3%\n",
      "Validation accuracy: 90.9%\n",
      "L2:  0.128617\n",
      "Minibatch loss at step 19000: 0.330629\n",
      "Minibatch accuracy: 93.8%\n",
      "Validation accuracy: 91.0%\n",
      "Test accuracy: 96.2%\n"
     ]
    }
   ],
   "source": [
    "with tf.Session(graph=graph) as session:\n",
    "  tf.initialize_all_variables().run()\n",
    "  print(\"Initialized\")\n",
    "  for step in range(num_steps):\n",
    "    offset = (step * batch_size) % (train_labels.shape[0] - batch_size + 2)\n",
    "    \n",
    "    if offset < batch_size:\n",
    "        train_dataset, train_labels = randomize(train_dataset, train_labels)\n",
    "        print('shuffled all')\n",
    "        \n",
    "    batch_data = train_dataset[offset:(offset + batch_size), :]\n",
    "    batch_labels = train_labels[offset:(offset + batch_size), :]\n",
    "\n",
    "    feed_dict = {tf_train_dataset : batch_data, tf_train_labels : batch_labels}\n",
    "    _, l, predictions = session.run([optimizer, loss, train_prediction], feed_dict=feed_dict)\n",
    "    \n",
    "    if (step % 500 == 0):\n",
    "      print('L2: ', L2.eval())  \n",
    "      print(\"Minibatch loss at step %d: %f\" % (step, l))\n",
    "      print(\"Minibatch accuracy: %.1f%%\" % accuracy(predictions, batch_labels))\n",
    "      print(\"Validation accuracy: %.1f%%\" % accuracy(valid_prediction.eval(), valid_labels))\n",
    "  \n",
    "  print(\"Test accuracy: %.1f%%\" % accuracy(test_prediction.eval(), test_labels))"
   ]
  },
  {
   "cell_type": "code",
   "execution_count": null,
   "metadata": {
    "collapsed": true
   },
   "outputs": [],
   "source": [
    "with tf.Session(graph=graph) as session:\n",
    "    # sess.graph_def is the graph definition; that enables the Graph Visualizer.\n",
    "    summary_writer = tf.train.SummaryWriter('/Volumes/darthDisk/machineLearning/udacity/logs_tf', session.graph)"
   ]
  },
  {
   "cell_type": "code",
   "execution_count": null,
   "metadata": {
    "collapsed": true
   },
   "outputs": [],
   "source": []
  }
 ],
 "metadata": {
  "colab": {
   "default_view": {},
   "name": "3_regularization.ipynb",
   "provenance": [],
   "version": "0.3.2",
   "views": {}
  },
  "kernelspec": {
   "display_name": "Python 2",
   "language": "python",
   "name": "python2"
  },
  "language_info": {
   "codemirror_mode": {
    "name": "ipython",
    "version": 2
   },
   "file_extension": ".py",
   "mimetype": "text/x-python",
   "name": "python",
   "nbconvert_exporter": "python",
   "pygments_lexer": "ipython2",
   "version": "2.7.11"
  }
 },
 "nbformat": 4,
 "nbformat_minor": 0
}
